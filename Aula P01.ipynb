{
 "cells": [
  {
   "cell_type": "markdown",
   "id": "b1d69902-a362-4d9f-9ce4-34fbb6b3948f",
   "metadata": {},
   "source": [
    "# Aula Prática (P01): Criação de parâmetros e Minimização de energia de uma Haleto Methyltransferase (PDB 3LCC)\n",
    "\n",
    "**Objetivos:**\n",
    "- Estudar o artigo de Schmidberger et. al. (DOI:10.1002/anie.201000119) para entender os parâmetros cinéticos para Cl⁻, Br⁻ e SCN⁻  \n",
    "- Preparar o complexo proteína–SAM–íon no AMBER  \n",
    "- Executar minimização MM e QM/MM  \n",
    "\n",
    "**Estrutura utilizada:**  \n",
    "PDB **3LCC**, estrutura de halide methyltransferase de *Arabidopsis thaliana*"
   ]
  },
  {
   "cell_type": "markdown",
   "id": "32c58d1a-76b8-4ce4-ac6c-71448f709abe",
   "metadata": {},
   "source": [
    "# 1) Preparação do Complexo Michaelis – Halide Methyltransferase (3LCC)\n",
    "\n",
    "\n",
    "## 1.1 Download do PDB 3LCC\n",
    "\n",
    "Baixe o arquivo do PDB diretamente do repositório da RCSB.\n",
    "Você pode acessar https://www.rcsb.org/structure/3LCC ou, no terminal, digitar: wget -O 3LCC.pdb https://files.rcsb.org/download/3LCC.pdb\n",
    "Utilize a célula a seguir, se quiser executar diretamente do jupyter-notebook\n",
    "\n"
   ]
  },
  {
   "cell_type": "code",
   "execution_count": 1,
   "id": "d470c1e1-8fef-4205-bb30-02e058b3dad1",
   "metadata": {},
   "outputs": [
    {
     "name": "stdout",
     "output_type": "stream",
     "text": [
      "Baixando o PDB 3LCC da RCSB...\n"
     ]
    },
    {
     "name": "stderr",
     "output_type": "stream",
     "text": [
      "--2025-05-15 14:26:48--  https://files.rcsb.org/download/3LCC.pdb\n",
      "Resolvendo files.rcsb.org (files.rcsb.org)... 108.139.134.60, 108.139.134.86, 108.139.134.26, ...\n",
      "108.139.134.60|:443... conectado.iles.rcsb.org)|\n",
      "A requisição HTTP foi enviada, aguardando resposta... 200 OK\n",
      "Tamanho: não especificada [application/octet-stream]\n",
      "Salvando em: ‘3LCC.pdb’\n",
      "\n",
      "..... .......... .......... ..........  392K\n",
      ". .......... .......... .......... ..........  396K\n",
      " .......... .......... .......... .......... 4,08M\n",
      ".......... .......... .......... .......... ..         5,44M=0,3s\n",
      "\n",
      "2025-05-15 14:26:50 (703 KB/s) - ‘3LCC.pdb’ salvo [196830]\n",
      "\n"
     ]
    },
    {
     "name": "stdout",
     "output_type": "stream",
     "text": [
      "Arquivo baixado: 3LCC.pdb\n"
     ]
    }
   ],
   "source": [
    "%%bash\n",
    "echo \"Baixando o PDB 3LCC da RCSB...\"\n",
    "wget -O 3LCC.pdb https://files.rcsb.org/download/3LCC.pdb\n",
    "echo \"Arquivo baixado: 3LCC.pdb\"\n"
   ]
  },
  {
   "cell_type": "markdown",
   "id": "30c528a1-06af-433a-ad14-b498bc8da298",
   "metadata": {},
   "source": [
    "---\n",
    "## 1.2 Visualização do PDB no UCSF Chimera\n",
    "\n",
    "Vamos abrir o PDB original no Chimera para inspeção e posterior edição.\n",
    "\n",
    "> **Passo 1:** Abra o arquivo no Chimera pelo terminal:\n",
    ">\n",
    "> ```sh\n",
    "> chimera 3LCC.pdb\n",
    "> ```\n",
    "\n",
    "---\n",
    "\n",
    "> **Passo 2:**\n",
    "> - Ao abrir o arquivo, navegue pela estrutura e localize o cofator SAM (que está na forma SAH), as moléculas de água que darão lugar aos íons e o sítio ativo da enzima.\n",
    "> - Identifique os resíduos de aminoácidos que interagem com o SAM\n",
    "> - Você deverá editar o arquivo PDB para simular o **complexo de Michaelis**, conforme ilustrado na **Figura 2** do artigo de referência.\n",
    "---\n",
    "> **Passo 3:**\n",
    "> - Utilize os recursos de seleção e visualização do Chimera para editar (Tools / Structure Editing / Build Structure)\n",
    "> - Adicione hidrogênios à estrutura (Tools / Structure Editing / AddH)\n",
    "> - Após as edições, salve um novo arquivo PDB com o nome `3LCC_Michaelis.pdb`, que será utilizado nas próximas etapas da simulação.\n",
    "\n",
    "\n"
   ]
  },
  {
   "cell_type": "markdown",
   "id": "74865e29-a44b-4674-8ec6-a519d0b98c95",
   "metadata": {},
   "source": [
    "---\n",
    "## 1.3 Determinação do Estado de Protonação dos Resíduos\n",
    "\n",
    "Antes de avançar para as etapas de simulação, é fundamental **verificar e ajustar o estado de protonação** dos resíduos de aminoácidos, pois isso pode impactar significativamente os resultados de energia e o mecanismo catalítico modelado. O estado de protonação afeta as cargas parciais dos resíduos, especialmente nos sítios ativos (como ácidos, bases e histidinas).\n",
    "\n",
    "---\n",
    "\n",
    "**Passo 1: Acesse o [servidor H++](https://biophysics.cs.vt.edu/H++/index.php):**  \n",
    "   [http://newbiophysics.cs.vt.edu/](http://newbiophysics.cs.vt.edu/)\n",
    "    Digite login e senha para continuar\n",
    "    \n",
    "**Passo 2: Faça o upload do arquivo PDB** editado, correspondente ao complexo de Michaelis (`3LCC_Michaelis.pdb`).\n",
    "\n",
    "**Passo 3: Selecione o pH de interesse** (recomenda-se pH fisiológico, em torno de 7.0).\n",
    "    No entanto, é essencial que verifique o artigo publicado para descobrir a que pH foram feitos os experimentos cinéticos.\n",
    "    \n",
    "**Passo 4: Envie para processamento** e aguarde o resultado e clique em 'View Results'\n",
    "\n",
    "**Passo 5: Baixe o novo arquivo PDB** protonado, que será utilizado nas etapas seguintes da preparação do sistema:\n",
    "     Other Useful Files\n",
    "     AMBER compatible PDB (PQR) structure in predicted protonation state: 0.15_80_10_pH6_3LCC.genpdb.cpptraj.pdb\n",
    "\n",
    "> ⚠️ **Dica:**  \n",
    "> Revise cuidadosamente a protonação de resíduos-chave, como histidinas, cisteínas e ácidos/asparaginas próximos ao sítio catalítico. Caso necessário, faça ajustes manuais no Chimera.\n",
    "\n",
    "---"
   ]
  },
  {
   "cell_type": "raw",
   "id": "a3b13145-97fe-4ea3-8505-d49f32bf3b61",
   "metadata": {},
   "source": [
    "## 1.4 Preparação do PDB para o AMBER e Parametrização do SAM\n",
    "\n",
    "Nesta etapa, vamos preparar o arquivo PDB para uso no AMBER, extrair as coordenadas do SAM, ajustar o nome do resíduo, e gerar os parâmetros necessários para simulações com o AMBER.\n",
    "\n",
    "---\n",
    "\n",
    "**Passo 1**: No terminal, execute o comando abaixo para preparar o arquivo PDB no formato aceito pelo AMBER (removendo inconsistências e adicionando informações necessárias):\n",
    "\n",
    "\n",
    "pdb4amber 3LCC_Michaelis.pdb > 3LCC_Michaelis_amber.pdb\n",
    "    \n",
    "**Passo 2**: vamos usar o editor de texto VIM para filtrar apenas as linhas correspondentes ao resíduo do cofator (SAM) e ajustar o nome do resíduo para \"SAM\" (caso o PDB original traga como \"SAH\" ou outro).\n",
    "\n",
    "    - No terminal, digite: vim 3LCC_Michaelis_amber.pdb\n",
    "    - Com o programa aberto, :%s/SAH/SAM/g\n",
    "    - Para salvar o arquivo digite :wq!\n",
    "\n",
    "**Passo 3**: Salvar um arquivo PDB que contenha somente o SAM\n",
    "    Uma forma rápida de fazer isso é usando o seguinte comando no terminal:\n",
    "    \n",
    "        grep \" SAM \" 3LCC_Michaelis_amber.pdb > SAM.pdb\n",
    "    \n",
    "**Passo 4**: Calcular as cargas para o SAM usando o método AM1BCC\n",
    "\n",
    "Com o arquivo SAM.pdb em mãos, vamos gerar os arquivos de parâmetros (MOL2 e FRCMOD) necessários para simulações no AMBER, utilizando o método am1-bcc para cálculo das cargas.\n",
    "\n",
    "         antechamber -i SAM.pdb -fi pdb -o SAM.mol2 -fo mol2 -c bcc -s 2 -nc 1\n",
    "\n",
    "Obs.: ajustar -nc conforme carga total a molécula em questão. Para o SAM a carga é +1 \n",
    "\n",
    "**Passo 5**: Gerar o arquivo de parâmetros complementares (FRCMOD)\n",
    "         \n",
    "         parmchk2 -i SAM.mol2 -f mol2 -o SAM.frcmod\n",
    "\n",
    "\n",
    "---"
   ]
  },
  {
   "cell_type": "markdown",
   "id": "5eefc12d-55f8-4b83-bf4b-0b1fff293ed2",
   "metadata": {},
   "source": [
    "## 1.5 Preparação dos Parâmetros para o Complexo Proteína-Ligante\n",
    "\n",
    "Finalmente, vamos gerar todos os arquivos necessários para simulações no AMBER, começando pela criação de uma **biblioteca (.lib)** para o SAM e, em seguida, preparando o complexo proteína-ligante já solvatado.\n",
    "\n",
    "---\n",
    "\n",
    "**Passo 1**: Gerar o arquivo .lib para o Cofator SAM. \n",
    "\n",
    "> O arquivo .lib (ou .off) no AMBER é uma biblioteca que contém todas as informações químicas necessárias para descrever um novo resíduo ou molécula não padrão, como ligantes ou cofatores. Ele armazena a conectividade, tipos de átomos e cargas parciais, permitindo que o AMBER reconheça e utilize corretamente essa molécula durante a preparação e simulação do sistema. Esse arquivo é gerado após parametrização e é essencial para incluir moléculas especiais que não estão presentes nos force fields padrão do AMBER.\n",
    "\n",
    "Abra o **tLeap** (no terminal linux, digite *tleap* e execute os comandos abaixo (ajuste os nomes dos arquivos conforme seu sistema):\n",
    "\n",
    "```sh\n",
    "tleap -f - <<EOF\n",
    "source leaprc.gaff2             # Carrega o force field GAFF2 (ideal para SAM)\n",
    "loadamberparams SAM.frcmod      # Parâmetros complementares do SAM, gerados anteriormente\n",
    "SAM = loadmol2 SAM.mol2         # Carrega as coordenadas e cargas do SAM (.mol2)\n",
    "saveoff SAM SAM.lib             # Salva biblioteca com os parâmetros do SAM\n",
    "saveamberparm SAM SAM.parm7 SAM.inpcrd  # Arquivos topologia e coordenadas do SAM isolado\n",
    "quit\n",
    "EOF\n",
    "\n",
    "**Passo 2**: Gerar o sistema completo: proteína, SAM, íon Cl⁻ e solvente. \n",
    "\n",
    "tleap -f - <<EOF\n",
    "source leaprc.protein.ff14SB    # Force field para proteínas\n",
    "source leaprc.gaff              # Force field para moléculas orgânicas (SAM)\n",
    "source leaprc.water.tip3p       # Modelo de água TIP3P\n",
    "loadamberparams SAM.frcmod      # Parâmetros do SAM\n",
    "loadoff SAM.lib                 # Biblioteca do SAM criada anteriormente\n",
    "com = loadpdb 3LCC_Michaelis_amber.pdb  # Carrega o PDB preparado\n",
    "\n",
    "# Solvatar o sistema em uma caixa de 12 Å\n",
    "solvateBox com TIP3PBOX 12.0\n",
    "\n",
    "# Verificar a carga total do sistema (deve ser inteiro)\n",
    "charge com\n",
    "\n",
    "# Neutralizar o sistema adicionando íons Na+\n",
    "addIons com Na+ 0\n",
    "\n",
    "# Salvar arquivos finais de topologia, coordenadas e PDB do sistema solvatado\n",
    "saveamberparm com 3lcc_CL.prmtop 3lcc_CL.inpcrd\n",
    "savepdb com 3lcc_CL_box.pdb\n",
    "quit\n",
    "EOF\n"
   ]
  },
  {
   "cell_type": "markdown",
   "id": "d21237b7-5b53-4488-b7f7-814b4e89ec11",
   "metadata": {},
   "source": [
    "## 1.5 Análise da minimização AMBER\n",
    "\n",
    "Vamos extrair e plotar a energia da minimização do arquivo `min4.cl.out`\n"
   ]
  },
  {
   "cell_type": "code",
   "execution_count": null,
   "id": "dd714f68-9275-473e-aeb3-145239fc2798",
   "metadata": {},
   "outputs": [],
   "source": []
  }
 ],
 "metadata": {
  "kernelspec": {
   "display_name": "Python 3 (ipykernel)",
   "language": "python",
   "name": "python3"
  },
  "language_info": {
   "codemirror_mode": {
    "name": "ipython",
    "version": 3
   },
   "file_extension": ".py",
   "mimetype": "text/x-python",
   "name": "python",
   "nbconvert_exporter": "python",
   "pygments_lexer": "ipython3",
   "version": "3.12.9"
  }
 },
 "nbformat": 4,
 "nbformat_minor": 5
}
