{
 "cells": [
  {
   "cell_type": "markdown",
   "metadata": {},
   "source": [
    "# Benchmark de Métodos QM/MM para Halide Methyltransferase (3LCC)\n",
    "\n",
    "**Objetivos:**\n",
    "- Comparar métodos semiempíricos e DFTB para barreira de energia da reação catalisada por 3LCC (SAM + haleto → produto)\n",
    "- Avaliar o efeito do tamanho da região QM\n",
    "- Comparar nucleófilos Cl⁻, Br⁻ e SCN⁻\n",
    "\n",
    "---"
   ]
  },
  {
   "cell_type": "markdown",
   "metadata": {},
   "source": [
    "## 1. Minimização Inicial\n",
    "\n",
    "Execute uma minimização de 2000 passos (ex: AM1/MM para todos os sistemas).\n",
    "\n",
    "**Exemplo de alteração no input do SANDER:**\n",
    "```bash\n",
    "cat > min_init.in <<EOF\n",
    "Short QM/MM minimization\n",
    "&cntrl\n",
    " imin=1, maxcyc=1000, ntmin=1, ncyc=200,\n",
    " ntpr=50,\n",
    " cut=10,\n",
    " ifqnt=1,\n",
    "/\n",
    "&qmmm\n",
    " qmmask=':SAM | :CL',\n",
    " qmcharge=0,\n",
    " qm_theory='AM1', # Altere o método aqui de acordo com a necessidade\n",
    " qmshake=0,\n",
    " qmcut=10,\n",
    " writepdb=1,\n",
    "/\n",
    "EOF\n",
    "```\n",
    "Execute o arquivo 1-run_init_min.sh, ajustando o caminho que aponta para os arquivos e criando as novas pastas\n",
    "```bash\n",
    "OUTPUT_DIR=\n",
    "```\n",
    "\n",
    "Repita para cada método (PM3, PM6, RM1, DFTB, DFTB3) e cada íon (Cl⁻, Br⁻, SCN⁻).\n",
    "Organize as pastas e nomes dos arquivos. Isso é muito importante para a análise posterior dos dados."
   ]
  },
  {
   "cell_type": "markdown",
   "metadata": {},
   "source": [
    "## 2. Varredura da Reação (Scan -2 a 2 Å)\n",
    "\n",
    "Realize minimizações restringindo a distância de reação (ex: C_metil–X) de -2.0 a 2.0 Å, com passos de 0.1 Å.\n",
    "\n",
    "Repita os procedimentos da Aula P02 a partir da seção \"Identificação de resíduos móveis e minimizações reacionais\"\n",
    "\n",
    "Ao utilizar outro nucleófilo, não esqueça de alterar no input o resíduo da parte QM:\n",
    "```bash\n",
    "  qmmask=':SAM,SCN',\n",
    "```"
   ]
  },
  {
   "cell_type": "markdown",
   "metadata": {},
   "source": [
    "## 3. Plot da Barreira de Energia\n",
    "\n",
    "Extraia a energia de cada ponto da varredura e plote o perfil da barreira de energia.\n",
    "Altere a lista `energies.dat` com os seus valores para cada método e cada sistema.\n"
   ]
  },
  {
   "cell_type": "markdown",
   "metadata": {},
   "source": [
    "## 4. Repetição para Diferentes Métodos QM\n",
    "\n",
    "Repita os passos acima para cada método:\n",
    "- AM1\n",
    "- PM3\n",
    "- PM6\n",
    "- RM1\n",
    "- DFTB\n",
    "- DFTB3\n",
    "\n",
    "Use nomes de arquivos e labels apropriados."
   ]
  },
  {
   "cell_type": "markdown",
   "metadata": {},
   "source": [
    "## 5. Região QM reduzida: Trimmetil Sulfônio\n",
    "\n",
    "Ao invés do SAM completo, restrinja a região QM apenas ao grupo trimetil sulfonio.  \n",
    "**Ajuste o `qmmask`** nos inputs (ex: átomos do grupo sulfonio).\n",
    "\n",
    "```bash\n",
    "qmmask=':SAM@H5',H5'',C5',SD,CG,HG2,HG3,C1,H11,H12,HC12'\n",
    "```\n",
    "Obs.: Confirmar a rotulagem dos átomos. Talvez seja preciso especificar os números dos átomos ao invés dos rótulos.\n",
    "Repita a varredura e análise para cada método e cada íon."
   ]
  },
  {
   "cell_type": "markdown",
   "metadata": {},
   "source": [
    "## 6. Repetição para Br⁻ e SCN⁻\n",
    "\n",
    "Execute todos os procedimentos acima para os sistemas com Br⁻ e SCN⁻."
   ]
  },
  {
   "cell_type": "markdown",
   "metadata": {},
   "source": [
    "## 7. Tabela Comparativa dos Resultados\n",
    "\n",
    "Monte uma tabela com as energias de ativação (ΔE‡) obtidas para cada método, cada tamanho de região QM e cada íon.\n"
   ]
  },
  {
   "cell_type": "code",
   "execution_count": null,
   "metadata": {},
   "outputs": [],
   "source": []
  }
 ],
 "metadata": {
  "kernelspec": {
   "display_name": "Python 3 (ipykernel)",
   "language": "python",
   "name": "python3"
  },
  "language_info": {
   "codemirror_mode": {
    "name": "ipython",
    "version": 3
   },
   "file_extension": ".py",
   "mimetype": "text/x-python",
   "name": "python",
   "nbconvert_exporter": "python",
   "pygments_lexer": "ipython3",
   "version": "3.12.9"
  }
 },
 "nbformat": 4,
 "nbformat_minor": 4
}
